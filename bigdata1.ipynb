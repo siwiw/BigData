{
 "cells": [
  {
   "cell_type": "code",
   "execution_count": 10,
   "metadata": {},
   "outputs": [
    {
     "name": "stdout",
     "output_type": "stream",
     "text": [
      "+-----+----+---------+---------+---------+\n",
      "| Nama|Usia|Pekerjaan|     Hobi|   Gender|\n",
      "+-----+----+---------+---------+---------+\n",
      "|  Ali|  34|     Guru|Memancing|Laki-Laki|\n",
      "| Budi|  23|  Yutuber|    Minum|Laki-Laki|\n",
      "|Citra|  29|Pengusaha|    Tidur|Perempuan|\n",
      "| Dina|  45|    Seleb|Foto foto|Perempuan|\n",
      "+-----+----+---------+---------+---------+\n",
      "\n"
     ]
    }
   ],
   "source": [
    "from pyspark.sql import SparkSession\n",
    "\n",
    "# Memulai Spark session\n",
    "spark = SparkSession.builder.appName(\"BigDataPractice\").getOrCreate()\n",
    "\n",
    "# Membuat DataFrame sederhana\n",
    "data = [(\"Ali\", 34, \"Guru\", \"Memancing\", \"Laki-Laki\"), \n",
    "        (\"Budi\", 23, \"Yutuber\", \"Minum\", \"Laki-Laki\"),\n",
    "        (\"Citra\", 29, \"Pengusaha\", \"Tidur\", \"Perempuan\"), \n",
    "        (\"Dina\", 45, \"Seleb\", \"Foto foto\", \"Perempuan\")]\n",
    "columns = [\"Nama\", \"Usia\", \"Pekerjaan\", \"Hobi\", \"Gender\"]\n",
    "df = spark.createDataFrame(data, columns)\n",
    "\n",
    "# Menampilkan DataFrame\n",
    "df.show()\n"
   ]
  },
  {
   "cell_type": "code",
   "execution_count": 11,
   "metadata": {},
   "outputs": [
    {
     "name": "stdout",
     "output_type": "stream",
     "text": [
      "DataFrame:\n",
      "+-----+----+\n",
      "| Nama|Usia|\n",
      "+-----+----+\n",
      "|  Ali|  34|\n",
      "| Budi|  23|\n",
      "|Citra|  29|\n",
      "| Dina|  45|\n",
      "+-----+----+\n",
      "\n",
      "Filtered (Usia > 30):\n"
     ]
    },
    {
     "name": "stdout",
     "output_type": "stream",
     "text": [
      "+----+----+\n",
      "|Nama|Usia|\n",
      "+----+----+\n",
      "| Ali|  34|\n",
      "|Dina|  45|\n",
      "+----+----+\n",
      "\n",
      "Rata-Rata Usia:\n",
      "+---------+\n",
      "|avg(Usia)|\n",
      "+---------+\n",
      "|    32.75|\n",
      "+---------+\n",
      "\n",
      "Sorted by Usia (descending):\n",
      "+-----+----+\n",
      "| Nama|Usia|\n",
      "+-----+----+\n",
      "| Dina|  45|\n",
      "|  Ali|  34|\n",
      "|Citra|  29|\n",
      "| Budi|  23|\n",
      "+-----+----+\n",
      "\n"
     ]
    }
   ],
   "source": [
    "from pyspark.sql import SparkSession\n",
    "from pyspark.sql.functions import avg\n",
    "\n",
    "# Memulai Spark session\n",
    "spark = SparkSession.builder.appName(\"BigDataPractice\").getOrCreate()\n",
    "\n",
    "# Membuat DataFrame sederhana\n",
    "data = [(\"Ali\", 34), (\"Budi\", 23), (\"Citra\", 29), (\"Dina\", 45)]\n",
    "columns = [\"Nama\", \"Usia\"]\n",
    "df = spark.createDataFrame(data, columns)\n",
    "\n",
    "# Menampilkan DataFrame\n",
    "print(\"DataFrame:\")\n",
    "df.show()\n",
    "\n",
    "# Filtering data\n",
    "df_filtered = df.filter(df['Usia'] > 30)\n",
    "print(\"Filtered (Usia > 30):\")\n",
    "df_filtered.show()\n",
    "\n",
    "# Menghitung rata-rata usia\n",
    "df_avg = df.groupBy().agg(avg(\"Usia\"))\n",
    "print(\"Rata-Rata Usia:\")\n",
    "df_avg.show()\n",
    "\n",
    "# Mengurutkan data berdasarkan usia\n",
    "df_sorted = df.orderBy(\"Usia\", ascending=False)\n",
    "print(\"Sorted by Usia (descending):\")\n",
    "df_sorted.show()\n"
   ]
  },
  {
   "cell_type": "code",
   "execution_count": 12,
   "metadata": {},
   "outputs": [
    {
     "name": "stdout",
     "output_type": "stream",
     "text": [
      "DataFrame:\n",
      "    Nama  Usia     Gender\n",
      "0    Ali    34  Laki-laki\n",
      "1   Budi    23  Laki-laki\n",
      "2  Citra    29  Perempuan\n",
      "3   Dina    45  Perempuan\n",
      "\n",
      "Usia > 30:\n",
      "   Nama  Usia     Gender\n",
      "0   Ali    34  Laki-laki\n",
      "3  Dina    45  Perempuan\n"
     ]
    }
   ],
   "source": [
    "import pandas as pd\n",
    "\n",
    "# Membuat DataFrame Pandas\n",
    "data_pandas = {\"Nama\": [\"Ali\", \"Budi\", \"Citra\", \"Dina\"], \"Usia\": [34, 23, 29, 45]}\n",
    "df_pandas = pd.DataFrame(data_pandas)\n",
    "\n",
    "# Menambahkan kolom baru\n",
    "gender = [\"Laki-laki\", \"Laki-laki\", \"Perempuan\", \"Perempuan\"]\n",
    "df_pandas['Gender'] = gender\n",
    "\n",
    "print(\"DataFrame:\")\n",
    "print(df_pandas)\n",
    "\n",
    "# Filtering usia\n",
    "filtered_df = df_pandas[df_pandas['Usia'] > 30]\n",
    "\n",
    "print(\"\\nUsia > 30:\")\n",
    "print(filtered_df)\n"
   ]
  },
  {
   "cell_type": "code",
   "execution_count": 13,
   "metadata": {},
   "outputs": [
    {
     "name": "stdout",
     "output_type": "stream",
     "text": [
      "DataFrame Gabungan:\n",
      "    Nama  Usia Pekerjaan\n",
      "0    Ali    34    Dokter\n",
      "1   Budi    23      Guru\n",
      "2  Citra    29  Insinyur\n",
      "3   Dina    45   Perawat\n",
      "\n",
      "Statistik Deskriptif:\n",
      "            Usia\n",
      "count   4.000000\n",
      "mean   32.750000\n",
      "std     9.322911\n",
      "min    23.000000\n",
      "25%    27.500000\n",
      "50%    31.500000\n",
      "75%    36.750000\n",
      "max    45.000000\n"
     ]
    },
    {
     "data": {
      "image/png": "[encoded data removed]",
      "text/plain": [
       "<Figure size 640x480 with 1 Axes>"
      ]
     },
     "metadata": {},
     "output_type": "display_data"
    }
   ],
   "source": [
    "import pandas as pd\n",
    "\n",
    "# DataFrame Pandas pertama\n",
    "data_pandas = {\"Nama\": [\"Ali\", \"Budi\", \"Citra\", \"Dina\"], \"Usia\": [34, 23, 29, 45]}\n",
    "df_pandas = pd.DataFrame(data_pandas)\n",
    "\n",
    "# DataFrame Pandas kedua\n",
    "data_pandas_2 = {\"Nama\": [\"Ali\", \"Budi\", \"Citra\", \"Dina\"], \"Pekerjaan\": [\"Dokter\", \"Guru\", \"Insinyur\", \"Perawat\"]}\n",
    "df_pandas_2 = pd.DataFrame(data_pandas_2)\n",
    "\n",
    "# Menggabungkan dua DataFrame dengan Nama\n",
    "df_joined = pd.merge(df_pandas, df_pandas_2, on=\"Nama\")\n",
    "print(\"DataFrame Gabungan:\")\n",
    "print(df_joined)\n",
    "\n",
    "# statistik deskriptif\n",
    "print(\"\\nStatistik Deskriptif:\")\n",
    "print(df_pandas.describe())\n",
    "\n",
    "# Visualisasi Data Usia\n",
    "df_pandas['Usia'].plot(kind='bar')\n",
    "plt.xlabel('Nama')\n",
    "plt.ylabel('Usia')\n",
    "plt.title('Usia per Nama')\n",
    "plt.xticks(ticks=range(len(df_pandas['Nama'])), labels=df_pandas['Nama'], rotation=0)\n",
    "plt.show()\n"
   ]
  },
  {
   "cell_type": "code",
   "execution_count": 14,
   "metadata": {},
   "outputs": [
    {
     "name": "stdout",
     "output_type": "stream",
     "text": [
      "DataFrame Pandas dari PySpark:\n",
      "    Nama  Usia\n",
      "0    Ali    34\n",
      "1   Budi    23\n",
      "2  Citra    29\n",
      "3   Dina    45\n",
      "\n",
      "DataFrame PySpark dari Pandas:\n",
      "+-----+----+\n",
      "| Nama|Usia|\n",
      "+-----+----+\n",
      "|  Ali|  34|\n",
      "| Budi|  23|\n",
      "|Citra|  29|\n",
      "| Dina|  45|\n",
      "+-----+----+\n",
      "\n"
     ]
    }
   ],
   "source": [
    "# Mengonversi DataFrame dari PySpark ke Pandas\n",
    "df_pandas_from_spark = df.toPandas()\n",
    "\n",
    "# Mengonversi DataFrame dari Pandas ke PySpark\n",
    "df_spark_from_pandas = spark.createDataFrame(df_pandas)\n",
    "\n",
    "# Menampilkan DataFrame hasil konversi\n",
    "print(\"DataFrame Pandas dari PySpark:\")\n",
    "print(df_pandas_from_spark)\n",
    "\n",
    "print(\"\\nDataFrame PySpark dari Pandas:\")\n",
    "df_spark_from_pandas.show()"
   ]
  },
  {
   "cell_type": "code",
   "execution_count": 9,
   "metadata": {},
   "outputs": [
    {
     "name": "stdout",
     "output_type": "stream",
     "text": [
      "Nilai maksimum usia: 45\n"
     ]
    }
   ],
   "source": [
    "# Mengkonversi DataFrame PySpark ke Pandas\n",
    "df_spark_pandas = df_spark_from_pandas.toPandas()\n",
    "\n",
    "# Menggabungkan kedua DataFrame Pandas\n",
    "df_combined = pd.concat([df_pandas_from_spark, df_spark_pandas], ignore_index=True)\n",
    "\n",
    "# Menghitung nilai maksimum usia\n",
    "max_age = df_combined['Usia'].max()\n",
    "print(\"Nilai maksimum usia:\", max_age)"
   ]
  }
 ],
 "metadata": {
  "kernelspec": {
   "display_name": "Python 3",
   "language": "python",
   "name": "python3"
  },
  "language_info": {
   "codemirror_mode": {
    "name": "ipython",
    "version": 3
   },
   "file_extension": ".py",
   "mimetype": "text/x-python",
   "name": "python",
   "nbconvert_exporter": "python",
   "pygments_lexer": "ipython3",
   "version": "3.12.1"
  }
 },
 "nbformat": 4,
 "nbformat_minor": 2
}
